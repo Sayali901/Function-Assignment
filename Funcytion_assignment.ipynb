{
  "nbformat": 4,
  "nbformat_minor": 0,
  "metadata": {
    "colab": {
      "provenance": []
    },
    "kernelspec": {
      "name": "python3",
      "display_name": "Python 3"
    },
    "language_info": {
      "name": "python"
    }
  },
  "cells": [
    {
      "cell_type": "markdown",
      "source": [
        "Function Assignment\n",
        "\n",
        "1) What is the difference between a function and a method in Python?\n",
        "  - In Python, a function is a reusable block of code that performs a specific task and can be called independently, while a method is a function that is associated with an object or class and is called using dot notation.\n",
        "  \n",
        " e.g def sum(num1, num2):\n",
        "    \n",
        "    return num1 + num2\n",
        "  \n",
        "     e.g\n",
        "    class Dog:\n",
        "\n",
        "    def my_method(self):\n",
        "        print \"I am a Dog\"\n",
        "\n",
        "  dog = Dog()\n",
        "\n",
        " dog.my_method()\n",
        "\n",
        "\n",
        "\n",
        " 2)Explain the concept of function arguments and parameters in Python.\n",
        "\n",
        "   - In Python, function parameters are placeholders for values that a function will receive, while arguments are the actual values passed to the function when it's called.\n",
        "\n",
        "   - Parameters are defined within the function's parentheses in the function definition (e.g., def my_function(parameter1, parameter2):)\n",
        "\n",
        "   - Arguments are the values that are passed to the function when it's called (e.g., my_function(value1, value2)).\n",
        "\n",
        "\n",
        "3) What are the different ways to define and call a function in Python?\n",
        "\n",
        " Defining a Function:\n",
        "\n",
        "- Keyword: Use the def keyword to start the function definition.\n",
        "\n",
        "- Function Name: Choose a descriptive name for your function, following Python's variable naming conventions.\n",
        "\n",
        "- Parameters: Enclose any parameters the function takes within parentheses after the function name.\n",
        "\n",
        "- Colon: End the function definition line with a colon (:)\n",
        "\n",
        "- Indented Code Block: The code that the function executes must be indented under the function definition.\n",
        "\n",
        "   e.g def greet(name):  \n",
        "    print(f\"Hello, {name}!\")\n",
        "\n",
        "Calling a Function:\n",
        "\n",
        "- Function Name: Simply write the name of the function you want to execute.\n",
        "\n",
        "- Parentheses: Follow the function name with parentheses, even if the function doesn't take any arguments.\n",
        "\n",
        "- Arguments: If the function takes arguments, place them inside the parentheses, separated by commas.  \n",
        "\n",
        "e.g greet(\"Alice\")  # Call the 'greet' function with the argument 'Alice'\n",
        "\n",
        "\n",
        "\n",
        "4) What is the purpose of the `return` statement in a Python function?\n",
        "\n",
        " - The return statement in a Python function serves to terminate the function's execution and send a value back to the caller. This value can then be used in further computations or assigned to a variable.\n",
        "\n",
        " e.g def add_numbers(a, b):\n",
        "        result = a + b\n",
        "        return result  # Returns the sum of a and b\n",
        "\n",
        "\n",
        "5) What are iterators in Python and how do they differ from iterables?\n",
        "\n",
        " - An Iterable is basically an object that any user can iterate over. An Iterator is also an object that helps a user in iterating over another object (that is iterable). We can generate an iterator when we pass the object to the iter() method.\n",
        "\n",
        " e.g numbers = iter([2, 4, 6, 8, 10])\n",
        "\n",
        "   print(type(numbers))\n",
        "\n",
        "   print(next(numbers))\n",
        "\n",
        "   print(next(numbers))\n",
        "\n",
        "  print(next(numbers))\n",
        "\n",
        "  print(next(numbers))\n",
        "\n",
        "  print(next(numbers))\n",
        "\n",
        "\n",
        "6. Explain the concept of generators in Python and how they are defined.\n",
        "\n",
        "- In Python, a generator is a function that returns an iterator, producing a sequence of values on demand using the yield keyword, rather than storing them all in memory at once.\n",
        "\n",
        "\n",
        "e.g  \n",
        "def my_generator(n):\n",
        "\n",
        "        for i in range(n):\n",
        "            yield i  # Produce the value 'i'\n",
        "\n",
        "    # Create a generator object\n",
        "    gen = my_generator(5)\n",
        "\n",
        "    # Iterate over the generator\n",
        "    for value in gen:\n",
        "        print(value)  # Output: 0, 1, 2, 3, 4\n",
        "\n",
        "7) What are the advantages of using generators over regular functions?\n",
        "\n",
        " - Generators offer advantages over regular functions, particularly when dealing with large datasets or infinite sequences, due to their memory efficiency and ability to produce values on demand through lazy evaluation.\n",
        "\n",
        " - Memory Efficiency:\n",
        "Generators generate values one at a time, as they are needed, rather than storing the entire sequence in memory like regular functions. This makes them ideal for handling large datasets or infinite sequences where memory constraints are a concern.\n",
        "\n",
        " - Lazy Evaluation:\n",
        "Generators use lazy evaluation, meaning they compute values only when they are required, improving performance and memory usage.\n",
        "\n",
        " - Resource Pipelining:\n",
        "Generators enable resource pipelining, where data processing tasks are divided into a sequence of generator functions, each processing a segment of data before forwarding it to the next stage. This creates an efficient processing pipeline that minimizes memory utilization.\n",
        "\n",
        " - Concise and Readable Code:\n",
        "Generators often provide a more concise and readable way to create iterators compared to traditional for loops.\n",
        "\n",
        " - Composability:\n",
        "Generators can be easily composed to create new generators, enabling powerful data processing pipelines.\n",
        "\n",
        " - Cooperative Multitasking:\n",
        "Generators can pause their execution with the \"yield\" keyword and later resume from where they left off, allowing for cooperative multitasking.\n",
        "\n",
        "\n",
        "8) What is a lambda function in Python and when is it typically used?\n",
        "\n",
        " - In Python, a lambda function is a small, anonymous function defined using the lambda keyword, typically used for one-time or short-term tasks, often within higher-order functions like map, filter, or sorted.\n",
        "\n",
        " e.g\n",
        " - add = lambda x, y: x + y (creates a function that adds two numbers)\n",
        "\n",
        " - list(map(lambda x: x**2, [1, 2, 3])) (squares each element in the list)\n",
        "\n",
        " - sorted(list, key=lambda x: x[1]) (sorts a list based on the second element of each tuple)\n",
        "\n",
        "\n",
        "9) Explain the purpose and usage of the `map()` function in Python.\n",
        "\n",
        " - The map() function in Python applies a given function to each item in an iterable (like a list) and returns an iterator that yields the results, effectively transforming the iterable without explicit loops.\n",
        "\n",
        " syntax =    map(function, iterable)\n",
        "\n",
        " e.g\n",
        "    numbers = [1, 2, 3, 4]\n",
        "\n",
        "    squared_numbers = map(lambda x: x**2, numbers)\n",
        "\n",
        "    print(list(squared_numbers))  # Output: [1, 4, 9, 16]\n",
        "\n",
        "\n",
        "10) What is the difference between `map()`, `reduce()`, and `filter()` functions in Python?    \n",
        "\n",
        " - In Python, map() applies a function to each item in an iterable, filter() selects items based on a condition, and reduce() (from functools) combines elements into a single value.\n",
        "\n",
        " map(function, iterable):\n",
        "\n",
        " Example: map(lambda x: x * 2, [1, 2, 3])\n",
        "\n",
        " filter(function, iterable):\n",
        "\n",
        " example: filter(lambda x: x % 2 == 0, [1, 2, 3, 4])\n",
        "\n",
        " reduce(function, iterable, initializer=None)\n",
        "\n",
        " example: reduce(function, iterable, initializer=None)\n",
        "\n",
        "\n",
        "\n"
      ],
      "metadata": {
        "id": "d_-KIEFgm9Hr"
      }
    },
    {
      "cell_type": "markdown",
      "source": [
        "Practical Questions:"
      ],
      "metadata": {
        "id": "h9cysp4FzUSj"
      }
    },
    {
      "cell_type": "code",
      "execution_count": null,
      "metadata": {
        "colab": {
          "base_uri": "https://localhost:8080/"
        },
        "id": "appTIl8Dmv-h",
        "outputId": "6d1d99de-84ab-4b35-fb26-6ea35904f6d0"
      },
      "outputs": [
        {
          "output_type": "execute_result",
          "data": {
            "text/plain": [
              "6"
            ]
          },
          "metadata": {},
          "execution_count": 10
        }
      ],
      "source": [
        "#Write a Python function that takes a list of numbers as input and returns the sum of all even numbers.\n",
        "def sum_of_even_num(n):\n",
        "  s=0\n",
        "  for i in n:\n",
        "    if i%2==0:\n",
        "      s+=i\n",
        "  return s\n",
        "sum_of_even_num((1,2,3,4))"
      ]
    },
    {
      "cell_type": "code",
      "source": [
        "#Create a Python function that accepts a string and returns the reverse of that string.\n",
        "def reverse_str(a):\n",
        "  return a[::-1]\n",
        "reverse_str('sayali')\n"
      ],
      "metadata": {
        "colab": {
          "base_uri": "https://localhost:8080/",
          "height": 36
        },
        "id": "UN2SPJJe2k4l",
        "outputId": "17fbe489-ca74-4569-e41f-9d8ef2a69a6b"
      },
      "execution_count": null,
      "outputs": [
        {
          "output_type": "execute_result",
          "data": {
            "text/plain": [
              "'ilayas'"
            ],
            "application/vnd.google.colaboratory.intrinsic+json": {
              "type": "string"
            }
          },
          "metadata": {},
          "execution_count": 12
        }
      ]
    },
    {
      "cell_type": "code",
      "source": [
        "#Implement a Python function that takes a list of integers and returns a new list containing the squares of each num.\n",
        "def squared_numbers(*args):\n",
        "  squared_numbers=[]\n",
        "  for num in args:\n",
        "      squared_numbers.append(num * num)\n",
        "  return squared_numbers\n",
        "squared_numbers(1,2,3)\n"
      ],
      "metadata": {
        "colab": {
          "base_uri": "https://localhost:8080/"
        },
        "id": "G7OmqfY04CQN",
        "outputId": "fc927ff2-1cc8-4235-d907-c2a304d02ab1"
      },
      "execution_count": null,
      "outputs": [
        {
          "output_type": "execute_result",
          "data": {
            "text/plain": [
              "[1, 4, 9]"
            ]
          },
          "metadata": {},
          "execution_count": 26
        }
      ]
    },
    {
      "cell_type": "code",
      "source": [
        "#Write a Python function that checks if a given number is prime or not from 1 to 200.\n",
        "def is_prime(number):\n",
        "  if number > 1:\n",
        "    for i in range(2,number):\n",
        "      if (number % i) == 0:\n",
        "        return False\n",
        "    return True\n",
        "  else:\n",
        "    return False\n",
        "\n",
        "# Taking user input\n",
        "number = int(input(\"Enter a number to check: \"))\n",
        "\n",
        "# Condition Checking\n",
        "if is_prime(number):\n",
        "  print(f\"{number} is a prime number.\")\n",
        "else:\n",
        "  print(f\"{number} is not a prime number.\")"
      ],
      "metadata": {
        "colab": {
          "base_uri": "https://localhost:8080/"
        },
        "id": "5hKiQ00H4Cig",
        "outputId": "066fda2a-5a98-442c-85f3-b579f34df07f"
      },
      "execution_count": null,
      "outputs": [
        {
          "output_type": "stream",
          "name": "stdout",
          "text": [
            "Enter a number to check: 2\n",
            "2 is a prime number.\n"
          ]
        }
      ]
    },
    {
      "cell_type": "code",
      "source": [
        "#Create an iterator class in Python that generates the Fibonacci sequence up to a specified number of terms\n",
        "def fib(n):\n",
        "    a = 0\n",
        "    b = 1\n",
        "    for i in range(n): #if n=5, 0, 1, 2, 3, 4\n",
        "        yield a\n",
        "        a, b = b, a+b\n",
        "f=fib(10000000)\n",
        "print(next(f))"
      ],
      "metadata": {
        "colab": {
          "base_uri": "https://localhost:8080/"
        },
        "id": "Ekj3O-KS4CxV",
        "outputId": "6a057b66-f7a0-411f-eddf-40fb6a3bb28a"
      },
      "execution_count": null,
      "outputs": [
        {
          "output_type": "stream",
          "name": "stdout",
          "text": [
            "0\n"
          ]
        }
      ]
    },
    {
      "cell_type": "code",
      "source": [
        "#Write a generator function in Python that yields the powers of 2 up to a given exponent\n",
        "def power_generator(base, exponent):\n",
        "    result = 1\n",
        "    for i in range(exponent + 1):\n",
        "        yield result\n",
        "        result *= base\n",
        "\n",
        "# Accept input from the user\n",
        "base = int(input(\"Input the base number: \"))\n",
        "exponent = int(input(\"Input the exponent: \"))\n",
        "\n",
        "# Create the generator object\n",
        "'power_gen = power_generator(base, exponent)\n",
        "\n",
        "# Generate and print the powers\n",
        "print(f\"Powers of {base} up to exponent {exponent}:\")\n",
        "for power in power_gen:\n",
        "    print(power)"
      ],
      "metadata": {
        "colab": {
          "base_uri": "https://localhost:8080/"
        },
        "id": "uet0WNRH4DGy",
        "outputId": "d3900e9e-4b24-4af6-fabe-e61a96deee53"
      },
      "execution_count": null,
      "outputs": [
        {
          "output_type": "stream",
          "name": "stdout",
          "text": [
            "Input the base number: 2\n",
            "Input the exponent: 5\n",
            "Powers of 2 up to exponent 5:\n",
            "1\n",
            "2\n",
            "4\n",
            "8\n",
            "16\n",
            "32\n"
          ]
        }
      ]
    },
    {
      "cell_type": "code",
      "source": [
        "#Implement a generator function that reads a file line by line and yields each line as a string.\n",
        "def students_name_generator():\n",
        "  yield \"radha\"\n",
        "  yield \"riya\"\n",
        "  yield \"raj\"\n",
        "for name in students_name_generator():\n",
        "  print(f\"student: {name}\")\n",
        "\n",
        "\n"
      ],
      "metadata": {
        "colab": {
          "base_uri": "https://localhost:8080/"
        },
        "id": "2sG9UwH14Da2",
        "outputId": "f4250547-9794-4192-b793-f97c1ef29e16"
      },
      "execution_count": null,
      "outputs": [
        {
          "output_type": "stream",
          "name": "stdout",
          "text": [
            "student: radha\n",
            "student: riya\n",
            "student: raj\n"
          ]
        }
      ]
    },
    {
      "cell_type": "code",
      "source": [
        " #Use a lambda function in Python to sort a list of tuples based on the second element of each tuple.\n",
        " # Create a list of tuples named 'subject_marks', each tuple containing a subject and its corresponding marks\n",
        "subject_marks = [('English', 88), ('Science', 90), ('Maths', 97), ('Social sciences', 82)]\n",
        "\n",
        "# Display the original list of tuples to the console\n",
        "print(\"Original list of tuples:\")\n",
        "print(subject_marks)\n",
        "\n",
        "# Sort the 'subject_marks' list of tuples based on the second element of each tuple (the marks),\n",
        "# using a lambda function as the sorting key to extract the second element\n",
        "subject_marks.sort(key=lambda x: x[1])\n",
        "\n",
        "# Display the sorted list of tuples to the console\n",
        "print(\"\\nSorting the List of Tuples:\")\n",
        "print(subject_marks)\n"
      ],
      "metadata": {
        "id": "k56dAyMg2lRp",
        "colab": {
          "base_uri": "https://localhost:8080/"
        },
        "outputId": "16f6e885-4aef-469f-88fb-b09be6877319"
      },
      "execution_count": 5,
      "outputs": [
        {
          "output_type": "stream",
          "name": "stdout",
          "text": [
            "Original list of tuples:\n",
            "[('English', 88), ('Science', 90), ('Maths', 97), ('Social sciences', 82)]\n",
            "\n",
            "Sorting the List of Tuples:\n",
            "[('Social sciences', 82), ('English', 88), ('Science', 90), ('Maths', 97)]\n"
          ]
        }
      ]
    },
    {
      "cell_type": "code",
      "source": [
        "#Write a Python program that uses `map()` to convert a list of temperatures from Celsius to Fahrenheit.\n",
        "temp2=[39.2,36.5,37.3,37.8]\n",
        "Farhenheit = map(lambda x:(float(9)/5)*x+2, temp2)\n",
        "print(list(Farhenheit))\n"
      ],
      "metadata": {
        "colab": {
          "base_uri": "https://localhost:8080/"
        },
        "id": "F6sVSzrrQly9",
        "outputId": "03b3cca2-8ef8-4638-f983-ad9f586d69d4"
      },
      "execution_count": 4,
      "outputs": [
        {
          "output_type": "stream",
          "name": "stdout",
          "text": [
            "[72.56, 67.7, 69.14, 70.03999999999999]\n"
          ]
        }
      ]
    },
    {
      "cell_type": "code",
      "source": [
        "#Create a Python program that uses `filter()` to remove all the vowels from a given string\n",
        "a=list(\"sayali\")\n",
        "def vowel(x):\n",
        "  v=('a','e','i','o','u')\n",
        "  return x in v\n",
        "b=list(filter(vowel,a))\n",
        "print(\"vowels:\",b)\n",
        "print(\"no of vowels:\",len(b))"
      ],
      "metadata": {
        "colab": {
          "base_uri": "https://localhost:8080/"
        },
        "id": "JfDssl_gQmE4",
        "outputId": "79d8d79a-df77-4bde-c10b-263b8905b5d6"
      },
      "execution_count": 2,
      "outputs": [
        {
          "output_type": "stream",
          "name": "stdout",
          "text": [
            "vowels: ['a', 'a', 'i']\n",
            "no of vowels: 3\n"
          ]
        }
      ]
    }
  ]
}